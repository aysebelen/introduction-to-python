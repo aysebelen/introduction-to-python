{
  "nbformat": 4,
  "nbformat_minor": 0,
  "metadata": {
    "colab": {
      "name": "prime1-1000.ipynb",
      "provenance": [],
      "authorship_tag": "ABX9TyMcBjKBo+taOMDIyzMkfQcm",
      "include_colab_link": true
    },
    "kernelspec": {
      "name": "python3",
      "display_name": "Python 3"
    }
  },
  "cells": [
    {
      "cell_type": "markdown",
      "metadata": {
        "id": "view-in-github",
        "colab_type": "text"
      },
      "source": [
        "<a href=\"https://colab.research.google.com/github/aysebelen/introduction-to-python/blob/newBranch11/prime1_1000.ipynb\" target=\"_parent\"><img src=\"https://colab.research.google.com/assets/colab-badge.svg\" alt=\"Open In Colab\"/></a>"
      ]
    },
    {
      "cell_type": "code",
      "metadata": {
        "id": "mTCZFiXsC4tg"
      },
      "source": [
        "def prime_first ():\r\n",
        "  \r\n",
        "  for sayi in range(1,500):  \r\n",
        "      if sayi > 1:  \r\n",
        "       for i in range(2,sayi):  \r\n",
        "           if (sayi % i) == 0:  \r\n",
        "               break  \r\n",
        "       else:  \r\n",
        "           print(sayi)  "
      ],
      "execution_count": null,
      "outputs": []
    },
    {
      "cell_type": "code",
      "metadata": {
        "id": "yK-vThljDbMp"
      },
      "source": [
        "prime_first ()"
      ],
      "execution_count": null,
      "outputs": []
    },
    {
      "cell_type": "code",
      "metadata": {
        "id": "4zpFxhu9DPuf"
      },
      "source": [
        "def prime_second ():\r\n",
        "  \r\n",
        "  for sayi in range(500,1000):  \r\n",
        "      if sayi > 1:  \r\n",
        "       for i in range(2,sayi):  \r\n",
        "           if (sayi % i) == 0:  \r\n",
        "               break  \r\n",
        "       else:  \r\n",
        "           print(sayi)  "
      ],
      "execution_count": null,
      "outputs": []
    },
    {
      "cell_type": "code",
      "metadata": {
        "id": "h-sew5FMDW8O"
      },
      "source": [
        "prime_second ()"
      ],
      "execution_count": null,
      "outputs": []
    },
    {
      "cell_type": "code",
      "metadata": {
        "id": "JO3HmO5mDiKM"
      },
      "source": [
        ""
      ],
      "execution_count": null,
      "outputs": []
    }
  ]
}