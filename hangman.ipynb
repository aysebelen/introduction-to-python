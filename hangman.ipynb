{
  "nbformat": 4,
  "nbformat_minor": 0,
  "metadata": {
    "colab": {
      "name": "hangman.ipynb",
      "provenance": [],
      "collapsed_sections": [],
      "authorship_tag": "ABX9TyNLniFb44oDKd7BjeXYTTWL",
      "include_colab_link": true
    },
    "kernelspec": {
      "name": "python3",
      "display_name": "Python 3"
    }
  },
  "cells": [
    {
      "cell_type": "markdown",
      "metadata": {
        "id": "view-in-github",
        "colab_type": "text"
      },
      "source": [
        "<a href=\"https://colab.research.google.com/github/aysebelen/introduction-to-python/blob/newBranch11/hangman.ipynb\" target=\"_parent\"><img src=\"https://colab.research.google.com/assets/colab-badge.svg\" alt=\"Open In Colab\"/></a>"
      ]
    },
    {
      "cell_type": "code",
      "metadata": {
        "id": "Y4e4YJu6rzvF"
      },
      "source": [
        "words = [\"Adana\", \"Adıyaman\", \"Afyon\", \"Ağrı\", \"Amasya\", \"Ankara\", \"Antalya\", \"Artvin\", \"Aydın\", \"Balıkesir\", \"Bilecik\", \"Bingöl\", \"Bitlis\", \"Bolu\", \"Burdur\", \"Bursa\", \"Çanakkale\", \"Çankırı\", \"Çorum\", \"Denizli\", \"Diyarbakır\", \"Edirne\", \"Elazığ\", \"Erzincan\", \"Erzurum\", \"Eskişehir\", \"Gaziantep\", \"Giresun\", \"Gümüşhane\", \"Hakkari\", \"Hatay\", \"Isparta,\" \"Mersin\", \"İstanbul\", \"İzmir\", \"Kars\", \"Kastamonu\", \"Kayseri\", \"Kırklareli\", \"Kırşehir\", \"Kocaeli\", \"Konya\", \"Kütahya\", \"Malatya\", \"Manisa\", \"Kahraman Maraş\", \"Mardin\", \"Muğla\", \"Muş\", \"Nevşehir\", \"Niğde\", \"Ordu\", \"Rize\", \"Sakarya\", \"Samsun\", \"Siirt\", \"Sinop\", \"Sivas\", \"Tekirdağ\", \"Tokat\", \"Trabzon\", \"Tunceli\", \"Şanlıurfa\", \"Uşak\", \"Van\", \"Yozgat\", \"Zonguldak\", \"Aksaray\", \"Bayburt\", \"Karaman\", \"Kırıkkale\", \"Batman\", \"Şırnak\", \"Bartın\", \"Ardahan\", \"Iğdır\", \"Yalova\", \"Karabük\", \"Kilis\", \"Osmaniye\", \"Düzce\"]\r\n",
        "\r\n",
        "import random\r\n",
        "from random import randint\r\n",
        "import string\r\n",
        "\r\n",
        "def get_valid_word(words):\r\n",
        "    word = random.choice(words) \r\n",
        "    while ' ' in word:\r\n",
        "        word = random.choice(words)\r\n",
        "\r\n",
        "    return word.upper()\r\n",
        "\r\n",
        "\r\n",
        "def hangman():\r\n",
        "    word = get_valid_word(words)\r\n",
        "    wordLetters = set(word)  \r\n",
        "    alphabet = set(string.ascii_uppercase)\r\n",
        "    usedLetters = set() \r\n",
        "\r\n",
        "    lives = 5\r\n",
        "\r\n",
        "    while len(wordLetters) > 0 and lives > 0:\r\n",
        "        \r\n",
        "        print('You have', lives, 'lives left and you have used these letters: ', ' '.join(usedLetters))\r\n",
        "\r\n",
        "        wordList = [letter if letter in usedLetters else '_' for letter in word]\r\n",
        "        print('Current word: ', ' '.join(wordList))\r\n",
        "\r\n",
        "        userLetter = input('Guess a letter: ').upper()\r\n",
        "        if userLetter in alphabet - usedLetters:\r\n",
        "            usedLetters.add(userLetter)\r\n",
        "            if userLetter in wordLetters:\r\n",
        "                wordLetters.remove(userLetter)\r\n",
        "                print('')\r\n",
        "\r\n",
        "            else:\r\n",
        "                lives = lives - 1  \r\n",
        "                print('\\nYour letter,', userLetter, 'is not in the word.')\r\n",
        "\r\n",
        "        elif userLetter in usedLetters:\r\n",
        "            print('\\nYou have already used that letter. Guess another letter.')\r\n",
        "\r\n",
        "        else:\r\n",
        "            print('\\nThat is not a valid letter.')\r\n",
        "\r\n",
        "    if lives == 0:\r\n",
        "        \r\n",
        "        print('You died, sorry. The word was', word)\r\n",
        "    else:\r\n",
        "        print('YAY! You guessed the word', word, '!!')\r\n",
        "\r\n",
        "\r\n",
        "if __name__ == '__main__':\r\n",
        "    hangman()"
      ],
      "execution_count": null,
      "outputs": []
    }
  ]
}